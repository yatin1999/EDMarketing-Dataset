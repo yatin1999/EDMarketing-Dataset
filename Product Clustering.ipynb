{
 "cells": [
  {
   "cell_type": "code",
   "execution_count": 1,
   "metadata": {
    "id": "NoKAo6roPzrz"
   },
   "outputs": [],
   "source": [
    "import pandas as pd\n",
    "import numpy as np\n",
    "import matplotlib.pyplot as plt\n",
    "import seaborn as sns"
   ]
  },
  {
   "cell_type": "code",
   "execution_count": 2,
   "metadata": {
    "id": "Hi7jkuRlQ5tK"
   },
   "outputs": [],
   "source": [
    "df = pd.read_csv(\"C:\\\\Users\\\\Dell\\\\Downloads\\\\pricerunner_aggregate.csv\",encoding='utf-8', header=None)"
   ]
  },
  {
   "cell_type": "code",
   "execution_count": 3,
   "metadata": {
    "colab": {
     "base_uri": "https://localhost:8080/",
     "height": 206
    },
    "id": "nn1lCSggTwoP",
    "outputId": "6e11f2b5-2efd-4053-82f8-24ae05170c15"
   },
   "outputs": [
    {
     "data": {
      "text/html": [
       "<div>\n",
       "<style scoped>\n",
       "    .dataframe tbody tr th:only-of-type {\n",
       "        vertical-align: middle;\n",
       "    }\n",
       "\n",
       "    .dataframe tbody tr th {\n",
       "        vertical-align: top;\n",
       "    }\n",
       "\n",
       "    .dataframe thead th {\n",
       "        text-align: right;\n",
       "    }\n",
       "</style>\n",
       "<table border=\"1\" class=\"dataframe\">\n",
       "  <thead>\n",
       "    <tr style=\"text-align: right;\">\n",
       "      <th></th>\n",
       "      <th>0</th>\n",
       "      <th>1</th>\n",
       "      <th>2</th>\n",
       "      <th>3</th>\n",
       "      <th>4</th>\n",
       "      <th>5</th>\n",
       "      <th>6</th>\n",
       "    </tr>\n",
       "  </thead>\n",
       "  <tbody>\n",
       "    <tr>\n",
       "      <th>0</th>\n",
       "      <td>1</td>\n",
       "      <td>apple iphone 8 plus 64gb silver</td>\n",
       "      <td>1</td>\n",
       "      <td>1</td>\n",
       "      <td>Apple iPhone 8 Plus 64GB</td>\n",
       "      <td>2612</td>\n",
       "      <td>Mobile Phones</td>\n",
       "    </tr>\n",
       "    <tr>\n",
       "      <th>1</th>\n",
       "      <td>2</td>\n",
       "      <td>apple iphone 8 plus 64 gb spacegrau</td>\n",
       "      <td>2</td>\n",
       "      <td>1</td>\n",
       "      <td>Apple iPhone 8 Plus 64GB</td>\n",
       "      <td>2612</td>\n",
       "      <td>Mobile Phones</td>\n",
       "    </tr>\n",
       "    <tr>\n",
       "      <th>2</th>\n",
       "      <td>3</td>\n",
       "      <td>apple mq8n2b/a iphone 8 plus 64gb 5.5 12mp sim...</td>\n",
       "      <td>3</td>\n",
       "      <td>1</td>\n",
       "      <td>Apple iPhone 8 Plus 64GB</td>\n",
       "      <td>2612</td>\n",
       "      <td>Mobile Phones</td>\n",
       "    </tr>\n",
       "    <tr>\n",
       "      <th>3</th>\n",
       "      <td>4</td>\n",
       "      <td>apple iphone 8 plus 64gb space grey</td>\n",
       "      <td>4</td>\n",
       "      <td>1</td>\n",
       "      <td>Apple iPhone 8 Plus 64GB</td>\n",
       "      <td>2612</td>\n",
       "      <td>Mobile Phones</td>\n",
       "    </tr>\n",
       "    <tr>\n",
       "      <th>4</th>\n",
       "      <td>5</td>\n",
       "      <td>apple iphone 8 plus gold 5.5 64gb 4g unlocked ...</td>\n",
       "      <td>5</td>\n",
       "      <td>1</td>\n",
       "      <td>Apple iPhone 8 Plus 64GB</td>\n",
       "      <td>2612</td>\n",
       "      <td>Mobile Phones</td>\n",
       "    </tr>\n",
       "  </tbody>\n",
       "</table>\n",
       "</div>"
      ],
      "text/plain": [
       "   0                                                  1  2  3  \\\n",
       "0  1                    apple iphone 8 plus 64gb silver  1  1   \n",
       "1  2                apple iphone 8 plus 64 gb spacegrau  2  1   \n",
       "2  3  apple mq8n2b/a iphone 8 plus 64gb 5.5 12mp sim...  3  1   \n",
       "3  4                apple iphone 8 plus 64gb space grey  4  1   \n",
       "4  5  apple iphone 8 plus gold 5.5 64gb 4g unlocked ...  5  1   \n",
       "\n",
       "                          4     5              6  \n",
       "0  Apple iPhone 8 Plus 64GB  2612  Mobile Phones  \n",
       "1  Apple iPhone 8 Plus 64GB  2612  Mobile Phones  \n",
       "2  Apple iPhone 8 Plus 64GB  2612  Mobile Phones  \n",
       "3  Apple iPhone 8 Plus 64GB  2612  Mobile Phones  \n",
       "4  Apple iPhone 8 Plus 64GB  2612  Mobile Phones  "
      ]
     },
     "execution_count": 3,
     "metadata": {},
     "output_type": "execute_result"
    }
   ],
   "source": [
    "df.head()"
   ]
  },
  {
   "cell_type": "code",
   "execution_count": 4,
   "metadata": {
    "id": "WHEf8UArT3pm"
   },
   "outputs": [],
   "source": [
    "df.columns = ['ID', 'Title', 'VendorID', 'ClusterID', 'ClusterLabel', 'CategoryID', 'CategoryLabel']"
   ]
  },
  {
   "cell_type": "code",
   "execution_count": 5,
   "metadata": {
    "colab": {
     "base_uri": "https://localhost:8080/"
    },
    "id": "ZQ_eOZQkW_8o",
    "outputId": "c72d4900-7908-4af1-9a42-d00fc9c28e1e"
   },
   "outputs": [
    {
     "data": {
      "text/plain": [
       "ID               0\n",
       "Title            0\n",
       "VendorID         0\n",
       "ClusterID        0\n",
       "ClusterLabel     0\n",
       "CategoryID       0\n",
       "CategoryLabel    0\n",
       "dtype: int64"
      ]
     },
     "execution_count": 5,
     "metadata": {},
     "output_type": "execute_result"
    }
   ],
   "source": [
    "df.isnull().sum()"
   ]
  },
  {
   "cell_type": "code",
   "execution_count": 6,
   "metadata": {
    "colab": {
     "base_uri": "https://localhost:8080/"
    },
    "id": "sxP8svzZXPb-",
    "outputId": "57b58c61-be65-4f18-e7ed-41555ffa1c1c"
   },
   "outputs": [
    {
     "name": "stdout",
     "output_type": "stream",
     "text": [
      "<class 'pandas.core.frame.DataFrame'>\n",
      "RangeIndex: 35311 entries, 0 to 35310\n",
      "Data columns (total 7 columns):\n",
      " #   Column         Non-Null Count  Dtype \n",
      "---  ------         --------------  ----- \n",
      " 0   ID             35311 non-null  int64 \n",
      " 1   Title          35311 non-null  object\n",
      " 2   VendorID       35311 non-null  int64 \n",
      " 3   ClusterID      35311 non-null  int64 \n",
      " 4   ClusterLabel   35311 non-null  object\n",
      " 5   CategoryID     35311 non-null  int64 \n",
      " 6   CategoryLabel  35311 non-null  object\n",
      "dtypes: int64(4), object(3)\n",
      "memory usage: 1.9+ MB\n"
     ]
    }
   ],
   "source": [
    "df.info()"
   ]
  },
  {
   "cell_type": "code",
   "execution_count": 7,
   "metadata": {
    "colab": {
     "base_uri": "https://localhost:8080/"
    },
    "id": "6RsfMI96tZfz",
    "outputId": "5f610b7f-74c8-45c4-a043-f340816ec065"
   },
   "outputs": [
    {
     "data": {
      "text/plain": [
       "array(['Apple iPhone 8 Plus 64GB', 'Apple iPhone 7 Plus 32GB',\n",
       "       'Apple iPhone 7 32GB', ..., 'Smeg FAB28 Pink', 'Candy CRU16.0',\n",
       "       'Neff K4316'], dtype=object)"
      ]
     },
     "execution_count": 7,
     "metadata": {},
     "output_type": "execute_result"
    }
   ],
   "source": [
    "df.ClusterLabel.unique()"
   ]
  },
  {
   "cell_type": "code",
   "execution_count": 8,
   "metadata": {
    "colab": {
     "base_uri": "https://localhost:8080/"
    },
    "id": "qJkN5c14tiWP",
    "outputId": "3e07700c-a243-472e-ab12-1485b8472745"
   },
   "outputs": [
    {
     "data": {
      "text/plain": [
       "Canon IXUS 185                   27\n",
       "Canon PowerShot SX730 HS         24\n",
       "Samsung UE49NU7100               24\n",
       "Samsung UE75NU7100               23\n",
       "Canon IXUS 285 HS                23\n",
       "                                 ..\n",
       "Canon IXUS 180                    1\n",
       "Intel Core i5-8500 3.GHz Tray     1\n",
       "Liebherr TP 1514 White            1\n",
       "Samsung Galaxy Core 4G            1\n",
       "Beko TFFC671W White               1\n",
       "Name: ClusterLabel, Length: 12849, dtype: int64"
      ]
     },
     "execution_count": 8,
     "metadata": {},
     "output_type": "execute_result"
    }
   ],
   "source": [
    "df.ClusterLabel.value_counts()"
   ]
  },
  {
   "cell_type": "code",
   "execution_count": 9,
   "metadata": {
    "colab": {
     "base_uri": "https://localhost:8080/"
    },
    "id": "jo2gLX9ftuWM",
    "outputId": "9a0dc2cf-daaf-4ac3-f0c6-4053fb6de5e9"
   },
   "outputs": [
    {
     "data": {
      "text/plain": [
       "2622    5501\n",
       "2612    4081\n",
       "2620    4044\n",
       "2615    3862\n",
       "2623    3584\n",
       "2614    3564\n",
       "2619    3424\n",
       "2617    2697\n",
       "2618    2342\n",
       "2621    2212\n",
       "Name: CategoryID, dtype: int64"
      ]
     },
     "execution_count": 9,
     "metadata": {},
     "output_type": "execute_result"
    }
   ],
   "source": [
    "df.CategoryID.value_counts()"
   ]
  },
  {
   "cell_type": "code",
   "execution_count": 10,
   "metadata": {
    "colab": {
     "base_uri": "https://localhost:8080/"
    },
    "id": "kdcQW_GFuJeU",
    "outputId": "307c44b1-8710-43db-d6b6-ca0f0725619c"
   },
   "outputs": [
    {
     "data": {
      "text/plain": [
       "3      2547\n",
       "6      1591\n",
       "298    1523\n",
       "31     1350\n",
       "119    1239\n",
       "       ... \n",
       "252       1\n",
       "169       1\n",
       "316       1\n",
       "371       1\n",
       "362       1\n",
       "Name: VendorID, Length: 306, dtype: int64"
      ]
     },
     "execution_count": 10,
     "metadata": {},
     "output_type": "execute_result"
    }
   ],
   "source": [
    "df.VendorID.value_counts()"
   ]
  },
  {
   "cell_type": "code",
   "execution_count": 11,
   "metadata": {
    "id": "aqI13yp2vhaT"
   },
   "outputs": [],
   "source": [
    "cat_atr = [\"Title\",\"ClusterLabel\",\"CategoryLabel\"]\n",
    "num_atr = [\"VendorID\",\"ClusterID\",\"CategoryID\"]"
   ]
  },
  {
   "cell_type": "code",
   "execution_count": 12,
   "metadata": {
    "id": "dPNiqb73w_D9"
   },
   "outputs": [],
   "source": [
    "from sklearn import preprocessing\n",
    "from sklearn.preprocessing import StandardScaler\n",
    "\n",
    "ss = StandardScaler()\n",
    "df[num_atr] = ss.fit_transform(df[num_atr])"
   ]
  },
  {
   "cell_type": "code",
   "execution_count": 13,
   "metadata": {
    "id": "cPpe2Jjv494u"
   },
   "outputs": [],
   "source": [
    "from sklearn import preprocessing \n",
    "le = preprocessing.LabelEncoder()\n",
    "\n",
    "df[cat_atr] = df[cat_atr].apply(le.fit_transform)"
   ]
  },
  {
   "cell_type": "code",
   "execution_count": 14,
   "metadata": {
    "colab": {
     "base_uri": "https://localhost:8080/"
    },
    "id": "9iyp0C5W5DIV",
    "outputId": "b5e5e25e-0971-43a8-d3ec-73a783aeee3f"
   },
   "outputs": [
    {
     "data": {
      "text/plain": [
       "array([2, 2, 2, ..., 4, 5, 6])"
      ]
     },
     "execution_count": 14,
     "metadata": {},
     "output_type": "execute_result"
    }
   ],
   "source": [
    "# K-Means Clustering\n",
    "from sklearn.cluster import KMeans\n",
    "\n",
    "nclusters = 7 # this is the k in kmeans\n",
    "seed = 0\n",
    "\n",
    "X = df.drop(columns=\"ID\")\n",
    "\n",
    "km = KMeans(n_clusters=nclusters, random_state=seed)\n",
    "km.fit(X)\n",
    "\n",
    "# predict the cluster for each data point\n",
    "y_cluster_kmeans = km.predict(X)\n",
    "y_cluster_kmeans"
   ]
  },
  {
   "cell_type": "code",
   "execution_count": 15,
   "metadata": {
    "colab": {
     "base_uri": "https://localhost:8080/"
    },
    "id": "qTyXZA9N6Day",
    "outputId": "6ca2388f-fc6d-43a9-cb40-d0d8bd1556c1"
   },
   "outputs": [
    {
     "data": {
      "text/plain": [
       "0.5156717754120841"
      ]
     },
     "execution_count": 15,
     "metadata": {},
     "output_type": "execute_result"
    }
   ],
   "source": [
    "from sklearn import metrics\n",
    "score = metrics.silhouette_score(X, y_cluster_kmeans)\n",
    "score"
   ]
  },
  {
   "cell_type": "code",
   "execution_count": 16,
   "metadata": {
    "id": "6qVKyHwZ6p7_"
   },
   "outputs": [],
   "source": [
    "y = X['ClusterID']"
   ]
  },
  {
   "cell_type": "code",
   "execution_count": 17,
   "metadata": {
    "colab": {
     "base_uri": "https://localhost:8080/"
    },
    "id": "wd6oVBnj8lw7",
    "outputId": "00d829c4-e5c4-4ab5-b685-a16156922646"
   },
   "outputs": [
    {
     "data": {
      "text/plain": [
       "array([[ 0,  2, 19, ...,  0,  0,  0],\n",
       "       [ 0,  2, 17, ...,  0,  0,  0],\n",
       "       [ 0,  1, 17, ...,  0,  1,  0],\n",
       "       ...,\n",
       "       [ 0,  0,  0, ...,  1,  0,  0],\n",
       "       [ 0,  0,  0, ...,  0,  1,  0],\n",
       "       [ 0,  0,  0, ...,  0,  0,  1]], dtype=int64)"
      ]
     },
     "execution_count": 17,
     "metadata": {},
     "output_type": "execute_result"
    }
   ],
   "source": [
    "contingency_matrix1 = metrics.cluster.contingency_matrix(y,y_cluster_kmeans)\n",
    "contingency_matrix1"
   ]
  },
  {
   "cell_type": "code",
   "execution_count": 18,
   "metadata": {
    "colab": {
     "base_uri": "https://localhost:8080/"
    },
    "id": "gwBN3S-_-vh9",
    "outputId": "59c162f6-e3b5-4619-a061-81e7725fc41f"
   },
   "outputs": [
    {
     "data": {
      "text/plain": [
       "array([ 8, 21, 19, 14, 17, 27, 17], dtype=int64)"
      ]
     },
     "execution_count": 18,
     "metadata": {},
     "output_type": "execute_result"
    }
   ],
   "source": [
    "np.amax(contingency_matrix1, axis=0)"
   ]
  },
  {
   "cell_type": "code",
   "execution_count": 19,
   "metadata": {
    "colab": {
     "base_uri": "https://localhost:8080/"
    },
    "id": "VdN5LlI3-zt7",
    "outputId": "98c0dd4b-2747-4ca9-d2db-e5e4ff876938"
   },
   "outputs": [
    {
     "data": {
      "text/plain": [
       "35311"
      ]
     },
     "execution_count": 19,
     "metadata": {},
     "output_type": "execute_result"
    }
   ],
   "source": [
    "y = np.sum(contingency_matrix1)  #total sum of all elements in contingency matrix\n",
    "y"
   ]
  },
  {
   "cell_type": "code",
   "execution_count": 20,
   "metadata": {
    "colab": {
     "base_uri": "https://localhost:8080/"
    },
    "id": "qG_pTpcc_RJu",
    "outputId": "f69bdeec-9fdd-424f-8d8f-5004393e53b7"
   },
   "outputs": [
    {
     "data": {
      "text/plain": [
       "123"
      ]
     },
     "execution_count": 20,
     "metadata": {},
     "output_type": "execute_result"
    }
   ],
   "source": [
    "x = np.sum(np.amax(contingency_matrix1, axis=0)) #Sum of max. elements from each row\n",
    "x"
   ]
  },
  {
   "cell_type": "code",
   "execution_count": 21,
   "metadata": {
    "colab": {
     "base_uri": "https://localhost:8080/"
    },
    "id": "ArMlLaB8_Egi",
    "outputId": "7846e208-8252-4438-dbbc-c6d5dbb0d0ab"
   },
   "outputs": [
    {
     "data": {
      "text/plain": [
       "0.003483333805329784"
      ]
     },
     "execution_count": 21,
     "metadata": {},
     "output_type": "execute_result"
    }
   ],
   "source": [
    "purity = float(x)/float(y) \n",
    "purity"
   ]
  },
  {
   "cell_type": "code",
   "execution_count": 22,
   "metadata": {
    "colab": {
     "base_uri": "https://localhost:8080/",
     "height": 616
    },
    "id": "wJaE9USj_IlS",
    "outputId": "f645281f-194d-4003-a040-598c26f1a2f5"
   },
   "outputs": [
    {
     "data": {
      "image/png": "[encoded data removed]",
      "text/plain": [
       "<Figure size 720x720 with 1 Axes>"
      ]
     },
     "metadata": {
      "needs_background": "light"
     },
     "output_type": "display_data"
    }
   ],
   "source": [
    "from sklearn.cluster import KMeans\n",
    "wcss = [] # within cluster sum of squares\n",
    "\n",
    "for k in range(1, 15):\n",
    "    kmeansForLoop = KMeans(n_clusters = k)\n",
    "    kmeansForLoop.fit(X)\n",
    "    wcss.append(kmeansForLoop.inertia_)\n",
    "\n",
    "plt.figure(figsize = (10, 10))\n",
    "plt.plot(range(1, 15), wcss)\n",
    "plt.xlabel(\"K value\")\n",
    "plt.ylabel(\"WCSS\")\n",
    "plt.show()"
   ]
  },
  {
   "cell_type": "code",
   "execution_count": 23,
   "metadata": {
    "colab": {
     "base_uri": "https://localhost:8080/",
     "height": 279
    },
    "id": "j2Kk44Nu_ZrB",
    "outputId": "29a93f37-f0f0-4419-cc7d-df7fbaf842f7"
   },
   "outputs": [
    {
     "data": {
      "image/png": "[encoded data removed]",
      "text/plain": [
       "<Figure size 432x288 with 1 Axes>"
      ]
     },
     "metadata": {
      "needs_background": "light"
     },
     "output_type": "display_data"
    }
   ],
   "source": [
    "from sklearn.metrics import silhouette_score\n",
    "silhouette_scores = [] \n",
    "\n",
    "for n_cluster in range(2,15):\n",
    "    silhouette_scores.append( \n",
    "        silhouette_score(X, KMeans(n_clusters = n_cluster).fit_predict(X))) \n",
    "    \n",
    "# Plotting a bar graph to compare the results \n",
    "k = [2, 3, 4, 5, 6,7,8,9,10,11,12,13,14] \n",
    "plt.bar(k, silhouette_scores) \n",
    "plt.xlabel('Number of clusters', fontsize = 10) \n",
    "plt.ylabel('Silhouette Score', fontsize = 10) \n",
    "plt.grid()\n",
    "plt.show() "
   ]
  }
 ],
 "metadata": {
  "colab": {
   "name": "clusteringEndTerm.ipynb",
   "provenance": []
  },
  "kernelspec": {
   "display_name": "Python 3",
   "language": "python",
   "name": "python3"
  },
  "language_info": {
   "codemirror_mode": {
    "name": "ipython",
    "version": 3
   },
   "file_extension": ".py",
   "mimetype": "text/x-python",
   "name": "python",
   "nbconvert_exporter": "python",
   "pygments_lexer": "ipython3",
   "version": "3.8.8"
  }
 },
 "nbformat": 4,
 "nbformat_minor": 1
}
